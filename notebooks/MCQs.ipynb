{
 "cells": [
  {
   "cell_type": "code",
   "execution_count": 1,
   "metadata": {},
   "outputs": [],
   "source": [
    "import os\n",
    "os.chdir(\"../\")"
   ]
  },
  {
   "cell_type": "code",
   "execution_count": 2,
   "metadata": {},
   "outputs": [],
   "source": [
    "from pdf_parser import pdf_to_text\n",
    "import openai"
   ]
  },
  {
   "cell_type": "code",
   "execution_count": 3,
   "metadata": {},
   "outputs": [],
   "source": [
    "file_path = \"PDFs/operating_systems.pdf\"\n",
    "docs = pdf_to_text(file_path,chunk_size=2000)"
   ]
  },
  {
   "cell_type": "code",
   "execution_count": 4,
   "metadata": {},
   "outputs": [],
   "source": [
    "prompt_template = \"\"\"Content: {}.\\nBased on this content, create a {} multiple choice question and answer pair with 4 options and single correct answer to test the knowledge of the user in an exam. Response should be in the follwoing template:\\nQuestion: <question> \\nA) <option A> \\nB) <option B> \\n<option C> \\n<option D> \\nAnswer: <correct option>\"\"\""
   ]
  },
  {
   "cell_type": "code",
   "execution_count": 8,
   "metadata": {},
   "outputs": [
    {
     "data": {
      "text/plain": [
       "'**UNIT 1** ****\\n**AN INTRODUCTION TO OPERATING SYSTEMS** ****\\n\\n**Application software** performs specific task for the user. \\n**System software** operates and controls the computer system and provides a platform to run\\napplication software.\\n\\nAn **operating system** is a piece of software that manages all the resources of a computer\\nsystem, both hardware and software, and provides an environment in which the user can\\nexecute his/her programs in a convenient and efficient manner by hiding underlying\\ncomplexity of the hardware and acting as a resource manager.\\n\\nWhy OS?\\n1. What if there is no OS?\\na. Bulky and complex app. (Hardware interaction code must be in app’s\\ncode base)\\nb. Resource exploitation by 1 App.\\nc. No memory protection.\\n2. What is an OS made up of?\\na. Collection of system software.\\n\\nAn operating system function - \\n- Access to the computer hardware. \\n- interface between the user and the computer hardware\\n- **Resource management (Aka, Arbitration) (memory, device, file, security, process etc)**\\n- **Hides the underlying complexity of the hardware. (Aka, Abstraction)**\\n- facilitates execution of application programs by providing isolation and protection.\\n\\nUser\\n\\nApplication programs \\n\\nOperating system \\n\\nComputer hardware \\n\\nThe operating system provides the means for proper use of the resources in the operation of\\nthe computer system.\\n\\n\\n\\n-----\\n\\n\\n#### LEC-2: Types of OS\\n\\nOS goals –\\n\\n- Maximum CPU utilization\\n\\n- Less process starvation\\n\\n- Higher priority job execution\\n\\nTypes of operating systems – \\n\\n- Single process operating system\\n- Batch-processing operating system\\n\\n[MS DOS, 1981] \\n[ATLAS, Manchester Univ., late 1950s – early 1960s] \\n- Multiprogramming operating system [THE, Dijkstra, early 1960s]\\n\\n- Multitasking operating system\\n- Multi-processing operating system\\n- Distributed system\\n- Real time OS\\n\\n[CTSS, MIT, early 1960s] \\n[Windows NT] \\n[LOCUS] \\n[ATCS] \\n\\n\\n\\n\\n-----\\n\\n\\n**Single process OS** , only 1 process executes at a time from the ready queue. [Oldest]'"
      ]
     },
     "execution_count": 8,
     "metadata": {},
     "output_type": "execute_result"
    }
   ],
   "source": [
    "docs[0].page_content"
   ]
  },
  {
   "cell_type": "code",
   "execution_count": 5,
   "metadata": {},
   "outputs": [],
   "source": [
    "api_key = \"esecret_35mu1unb6nmdmy5vpyc5jdey8c\"\n",
    "client = openai.OpenAI(\n",
    "    base_url = \"https://api.endpoints.anyscale.com/v1\",\n",
    "    api_key = \"esecret_35mu1unb6nmdmy5vpyc5jdey8c\"\n",
    ")\n",
    "prompt = prompt_template.format(docs[4].page_content,\"set of 3\")\n",
    "chat_completion = client.chat.completions.create(\n",
    "    model=\"meta-llama/Llama-2-13b-chat-hf\",\n",
    "    messages=[{\"role\": \"system\", \"content\": \"You are a helpful assistant.\"},\n",
    "              {\"role\": \"user\", \"content\": prompt}],\n",
    "    temperature=0.5\n",
    ")\n",
    "resp_text = chat_completion.model_dump()['choices'][0]['message']['content']"
   ]
  },
  {
   "cell_type": "code",
   "execution_count": 6,
   "metadata": {},
   "outputs": [
    {
     "name": "stdout",
     "output_type": "stream",
     "text": [
      "  Sure, here are three multiple choice questions based on the content you provided:\n",
      "\n",
      "Question 1: What is the main difference between thread context switching and process context switching?\n",
      "\n",
      "A) Thread context switching does not include switching of memory address space, while process context switching does.\n",
      "B) Thread context switching includes switching of memory address space, while process context switching does not.\n",
      "C) Both thread and process context switching include switching of memory address space.\n",
      "D) Thread context switching is faster than process context switching.\n",
      "\n",
      "Answer: A) Thread context switching does not include switching of memory address space, while process context switching does.\n",
      "\n",
      "Question 2: What is the function of the kernel in an operating system?\n",
      "\n",
      "A) To provide a user interface for users to interact with the operating system.\n",
      "B) To manage and control I/O operations and I/O devices.\n",
      "C) To allocate and deallocate memory space as per the need of the system.\n",
      "D) To schedule processes and threads on the CPUs.\n",
      "\n",
      "Answer: D) To schedule processes and threads on the CPUs.\n",
      "\n",
      "Question 3: What is the purpose of spooling in I/O management?\n",
      "\n",
      "A) To cache data in the memory before it is sent to the device.\n",
      "B) To buffer data between two devices before it is processed.\n",
      "C) To map files into secondary storage.\n",
      "D) To provide backup support onto a stable storage media.\n",
      "\n",
      "Answer: B) To buffer data between two devices before it is processed.\n"
     ]
    }
   ],
   "source": [
    "print(resp_text)"
   ]
  },
  {
   "cell_type": "code",
   "execution_count": 7,
   "metadata": {},
   "outputs": [],
   "source": [
    "def convert_resp_text_to_mcqs(resp_text):\n",
    "    resp_text_lines = resp_text.split('\\n')\n",
    "    lb = \"<line_break>\"\n",
    "    resp_text_lines = [line+lb for line in resp_text_lines]\n",
    "    q_lst, ans_lst = [], []\n",
    "\n",
    "    q = -1\n",
    "    question, answer = \"\", \"\"\n",
    "    for line in resp_text_lines:\n",
    "        if line.strip().replace(lb,\"\")==\"\":\n",
    "            continue\n",
    "        if line.lower().strip().startswith('question'):\n",
    "            if answer.strip() != \"\":\n",
    "                ans_lst.append(answer.strip().replace(lb,\"\\n\"))\n",
    "            question = line.split(\":\")[1].strip()\n",
    "            q = 1\n",
    "        elif line.lower().strip().startswith('answer'):\n",
    "            if question.strip() != \"\":\n",
    "                q_lst.append(question.strip().replace(lb,\"\\n\"))\n",
    "            q = 0\n",
    "            answer = line.split(\":\")[1].strip()\n",
    "        elif q==1:\n",
    "            question += \" \"\n",
    "            question += line.strip()\n",
    "        elif q==0:\n",
    "            answer += \" \"\n",
    "            answer += line.strip()\n",
    "    if answer.strip()!=\"\":\n",
    "        ans_lst.append(answer.strip().replace(lb,\"\\n\"))\n",
    "    return q_lst, ans_lst"
   ]
  },
  {
   "cell_type": "code",
   "execution_count": 8,
   "metadata": {},
   "outputs": [],
   "source": [
    "q_lst, ans_lst = convert_resp_text_to_mcqs(resp_text)"
   ]
  },
  {
   "cell_type": "code",
   "execution_count": 19,
   "metadata": {},
   "outputs": [],
   "source": [
    "def get_options(qa):\n",
    "    q = qa['question']\n",
    "    a = qa['answer']\n",
    "    f = 1\n",
    "    q_lines = q.split(\"\\n\")\n",
    "    options = {}\n",
    "    question = \"\"\n",
    "    for line in q_lines:\n",
    "        if line.strip().startswith('A)')==False and f==1:\n",
    "            question += line.strip() + \"\\n\"\n",
    "        if line.strip().startswith('A)'):\n",
    "            f = 0\n",
    "            options['A'] = line.strip()[2:].strip()\n",
    "        if line.strip().startswith('B)'):\n",
    "            options['B'] = line.strip()[2:].strip()\n",
    "        if line.strip().startswith('C)'):\n",
    "            options['C'] = line.strip()[2:].strip()\n",
    "        if line.strip().startswith('D)'):\n",
    "            options['D'] = line.strip()[2:].strip()\n",
    "\n",
    "    if \"A)\" in a:\n",
    "        correct_option = 'A'\n",
    "    elif \"B)\" in a:\n",
    "        correct_option = \"B\"\n",
    "    elif \"C)\" in a:\n",
    "        correct_option = \"C\"\n",
    "    else:\n",
    "        correct_option = \"D\"\n",
    "    mcq = {}\n",
    "    mcq['question'] = question.strip()\n",
    "    mcq['answer'] = correct_option\n",
    "    mcq['A'],mcq['B'],mcq['C'],mcq['D'] = options['A'],options['B'],options['C'],options['D']\n",
    "    return mcq"
   ]
  },
  {
   "cell_type": "code",
   "execution_count": 20,
   "metadata": {},
   "outputs": [
    {
     "data": {
      "text/plain": [
       "{'question': 'What is the main difference between thread context switching and process context switching?',\n",
       " 'answer': 'A',\n",
       " 'A': 'Thread context switching does not include switching of memory address space, while process context switching does.',\n",
       " 'B': 'Thread context switching includes switching of memory address space, while process context switching does not.',\n",
       " 'C': 'Both thread and process context switching include switching of memory address space.',\n",
       " 'D': 'Thread context switching is faster than process context switching.'}"
      ]
     },
     "execution_count": 20,
     "metadata": {},
     "output_type": "execute_result"
    }
   ],
   "source": [
    "get_options({\"question\":q_lst[0],\"answer\":ans_lst[0]})"
   ]
  }
 ],
 "metadata": {
  "kernelspec": {
   "display_name": "Python 3",
   "language": "python",
   "name": "python3"
  },
  "language_info": {
   "codemirror_mode": {
    "name": "ipython",
    "version": 3
   },
   "file_extension": ".py",
   "mimetype": "text/x-python",
   "name": "python",
   "nbconvert_exporter": "python",
   "pygments_lexer": "ipython3",
   "version": "3.11.9"
  }
 },
 "nbformat": 4,
 "nbformat_minor": 2
}
