{
 "cells": [
  {
   "cell_type": "code",
   "execution_count": 1,
   "metadata": {},
   "outputs": [],
   "source": [
    "import openai\n",
    "llm_model_name = \"meta-llama/Llama-2-7b-chat-hf\"\n",
    "temperature = 0.5\n",
    "anyscale_api_key = \"esecret_35mu1unb6nmdmy5vpyc5jdey8c\"\n",
    "llm_endpoint = \"https://api.endpoints.anyscale.com/v1\"\n",
    "\n",
    "def get_llm_response(prompt):\n",
    "    client = openai.OpenAI(base_url = llm_endpoint,\n",
    "                                api_key = anyscale_api_key)\n",
    "    chat_completion = client.chat.completions.create(\n",
    "            model=llm_model_name,\n",
    "            messages=[{\"role\": \"system\", \"content\": \"You are a helpful assistant.\"},\n",
    "                    {\"role\": \"user\", \"content\": prompt}],\n",
    "                    temperature=temperature\n",
    "            )\n",
    "\n",
    "    return chat_completion.model_dump()['choices'][0]['message']['content']"
   ]
  },
  {
   "cell_type": "code",
   "execution_count": 2,
   "metadata": {},
   "outputs": [],
   "source": [
    "def evaluate_answer(question, user_answer, actual_answer, context):\n",
    "    evaluation_prompt_template = \"\"\"Question: {}\n",
    "    User's answer: {}\n",
    "    Actual answer: {}\n",
    "    Context: {}\n",
    "    Evaluate the user's answer for the given question based on the actual answer and context. Respond whether it is correct, partially correct or wrong and provide explanation.\"\"\"\n",
    "    prompt = evaluation_prompt_template.format(question, user_answer, actual_answer, context)\n",
    "\n",
    "    response = get_llm_response(prompt)\n",
    "    return response"
   ]
  },
  {
   "cell_type": "code",
   "execution_count": null,
   "metadata": {},
   "outputs": [],
   "source": []
  }
 ],
 "metadata": {
  "kernelspec": {
   "display_name": "Python 3",
   "language": "python",
   "name": "python3"
  },
  "language_info": {
   "codemirror_mode": {
    "name": "ipython",
    "version": 3
   },
   "file_extension": ".py",
   "mimetype": "text/x-python",
   "name": "python",
   "nbconvert_exporter": "python",
   "pygments_lexer": "ipython3",
   "version": "3.11.9"
  }
 },
 "nbformat": 4,
 "nbformat_minor": 2
}
