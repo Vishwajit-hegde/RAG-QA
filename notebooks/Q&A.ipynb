{
 "cells": [
  {
   "cell_type": "code",
   "execution_count": 1,
   "id": "ec5234e8",
   "metadata": {},
   "outputs": [],
   "source": [
    "import PyPDF2\n",
    "from tqdm import tqdm\n",
    "def extract_text_from_pdf(pdf_path):\n",
    "    with open(pdf_path, 'rb') as file:\n",
    "        reader = PyPDF2.PdfReader(pdf_path)\n",
    "        text = ''\n",
    "        for page in reader.pages:\n",
    "            text += page.extract_text()\n",
    "    return text"
   ]
  },
  {
   "cell_type": "code",
   "execution_count": 9,
   "id": "04328fab",
   "metadata": {},
   "outputs": [
    {
     "data": {
      "text/plain": [
       "'Hello there. 1, 2'"
      ]
     },
     "execution_count": 9,
     "metadata": {},
     "output_type": "execute_result"
    }
   ],
   "source": [
    "template = \"\"\"Hello there. {}, {}\"\"\"\n",
    "template.format(1,2)"
   ]
  },
  {
   "cell_type": "code",
   "execution_count": 3,
   "id": "e288411b",
   "metadata": {},
   "outputs": [],
   "source": [
    "pdf_text = extract_text_from_pdf('../PDFs/harappan_history_ncert.pdf')"
   ]
  },
  {
   "cell_type": "code",
   "execution_count": 4,
   "id": "3693f115",
   "metadata": {},
   "outputs": [],
   "source": [
    "pdf_text = pdf_text.replace('\\n',' ')"
   ]
  },
  {
   "cell_type": "code",
   "execution_count": 5,
   "id": "970ece12",
   "metadata": {},
   "outputs": [],
   "source": [
    "from langchain.text_splitter import CharacterTextSplitter, RecursiveCharacterTextSplitter"
   ]
  },
  {
   "cell_type": "code",
   "execution_count": 6,
   "id": "619d51ff",
   "metadata": {},
   "outputs": [],
   "source": [
    "text_splitter = RecursiveCharacterTextSplitter(\n",
    "    separators = ['. ','? ','! ',],\n",
    "    chunk_size=3000,\n",
    "    chunk_overlap=400,\n",
    "    length_function=len,\n",
    "    is_separator_regex=False,\n",
    ")"
   ]
  },
  {
   "cell_type": "code",
   "execution_count": 7,
   "id": "8359d4d0",
   "metadata": {},
   "outputs": [],
   "source": [
    "texts = text_splitter.create_documents([pdf_text])"
   ]
  },
  {
   "cell_type": "code",
   "execution_count": 51,
   "id": "f675e6d4",
   "metadata": {},
   "outputs": [],
   "source": [
    "texts = [texts[i].page_content for i in range(len(texts))]"
   ]
  },
  {
   "cell_type": "code",
   "execution_count": 56,
   "id": "af054a16",
   "metadata": {},
   "outputs": [],
   "source": [
    "import os\n",
    "import requests\n",
    "\n",
    "def prompt_llm(prompt,model_name=\"meta-llama/Llama-2-70b-chat-hf\",temperature=0.5,sess=None):\n",
    "    url = \"https://api.endpoints.anyscale.com/v1/chat/completions\"\n",
    "    api_key = \"esecret_jd2ytygy3f7rzmj8pyr4yf2elx\"\n",
    "    if sess==None:\n",
    "        sess = requests.Session()\n",
    "    body = {\n",
    "      \"model\": model_name,\n",
    "      \"messages\": [{\"role\": \"system\", \"content\": \"You're a helpful assistant\"}, \n",
    "                   {\"role\": \"user\", \"content\": prompt}],\n",
    "      \"temperature\": temperature\n",
    "    }\n",
    "    resp = sess.post(url, headers={\"Authorization\": f\"Bearer {api_key}\"}, json=body)\n",
    "    return resp.json()['choices'][0]['message']['content'].strip()"
   ]
  },
  {
   "cell_type": "code",
   "execution_count": 57,
   "id": "5b79cf79",
   "metadata": {},
   "outputs": [],
   "source": [
    "context = texts[0]\n",
    "prompt_template = f\"\"\"Context: {context}.\\n Based on this context, create a short answered question \n",
    "                and answer for the question. First line should contain the question and next line answer.\"\"\"\n",
    "output = prompt_llm(prompt_template)"
   ]
  },
  {
   "cell_type": "code",
   "execution_count": 66,
   "id": "431c4ce8",
   "metadata": {},
   "outputs": [],
   "source": [
    "def get_prompt(content):\n",
    "    prompt = f\"\"\"Content: {content}.\\n Based on this content, create a short answered question and answer pair. Output should be in the template 'Q: <question> \\n A: <answer>'\"\"\"\n",
    "    return prompt"
   ]
  },
  {
   "cell_type": "code",
   "execution_count": 64,
   "id": "58d076d6",
   "metadata": {},
   "outputs": [
    {
     "name": "stderr",
     "output_type": "stream",
     "text": [
      "100%|██████████████████████████████████████████████████████████████████████████████████| 19/19 [01:39<00:00,  5.25s/it]\n"
     ]
    }
   ],
   "source": [
    "outputs = [output]\n",
    "for content in tqdm(texts[1:]):\n",
    "    prompt = get_prompt(content)\n",
    "    outputs.append(prompt_llm(prompt))"
   ]
  },
  {
   "cell_type": "code",
   "execution_count": 67,
   "id": "995d0887",
   "metadata": {},
   "outputs": [
    {
     "name": "stderr",
     "output_type": "stream",
     "text": [
      "100%|████████████████████████████████████████████████████████████████████████████████████| 5/5 [00:19<00:00,  3.94s/it]\n"
     ]
    }
   ],
   "source": [
    "outputs2 = []\n",
    "for context in tqdm(texts[:5]):\n",
    "    prompt = get_prompt(context)\n",
    "    outputs2.append(prompt_llm(prompt))"
   ]
  },
  {
   "cell_type": "code",
   "execution_count": 68,
   "id": "7f3574d9",
   "metadata": {},
   "outputs": [
    {
     "name": "stdout",
     "output_type": "stream",
     "text": [
      "Q: What is the Harappan seal made of?\n",
      "A: The Harappan seal is made of a stone called steatite.\n",
      "\n",
      "Q: What types of grains were found at Harappan sites?\n",
      "A: Wheat, barley, lentil, chickpea, sesame, and millets (in Gujarat) were found at Harappan sites. Rice was found in relatively low quantities.\n",
      "\n",
      "Q: Did the Harappans use stone blades set in wooden handles or metal tools?\n",
      "A: The Harappans used stone blades set in wooden handles, as well as metal tools.\n",
      "\n",
      "Q: What is the evidence used by archaeologists to reconstruct dietary practices?\n",
      "A: Archaeologists use artefacts such as querns, which were used for grinding grains and other foodstuffs, to reconstruct dietary practices.\n",
      "\n",
      "Q: How were the tools used by the Harappans for harvesting?\n",
      "A: The tools used by the Harappans for harvesting included stone and metal blades set in wooden handles, which were used for cutting and gathering crops.\n",
      "\n",
      "Q: What is the significance of the reservoir found at Dholavira?\n",
      "A: The reservoir found at Dholavira is significant because it suggests that the Harappans had a sophisticated system of irrigation, which allowed them to farm in semi-arid regions.\n",
      "\n",
      "Q: How do archaeologists use present-day analogies to try and understand what ancient artefacts were used for?\n",
      "A: Archaeologists use present-day analogies by comparing artefacts found at excavation sites to similar objects used in the present day. For example, the use of querns in the present day is similar to their use in ancient times.\n",
      "\n",
      "Q: What is the difference between the Lower Town and the Citadel in Mohenjodaro?\n",
      "A: The Lower Town in Mohenjodaro was the residential area, while the Citadel was the administrative and ceremonial center. The Citadel was built on a higher platform and had more impressive architecture, including a large public bath and a granary.\n",
      "\n",
      "Q: What is the difference between the Citadel and the Lower Town in Mohenjodaro?\n",
      "A: The Citadel is the higher, smaller section of the city, while the Lower Town is the larger, lower section. The Citadel was walled and physically separated from the Lower Town, which was also walled. The Citadel had buildings constructed on mud brick platforms, while the Lower Town had platforms serving as foundations for buildings. The Lower Town was laid out in a grid pattern with streets and drains, while the Citadel did not have a grid pattern.\n",
      "\n",
      "Q: What was the purpose of the Citadel in the Harappan settlement of Lothal?\n",
      "A: The Citadel in Lothal was not walled off, but was built at a height, and it is believed that it was used for special public purposes, although the exact nature of these purposes is not specified in the given text.\n",
      "\n"
     ]
    }
   ],
   "source": [
    "for output in outputs2:\n",
    "    print(output)\n",
    "    print('')"
   ]
  },
  {
   "cell_type": "code",
   "execution_count": 65,
   "id": "74f1fb97",
   "metadata": {},
   "outputs": [
    {
     "name": "stdout",
     "output_type": "stream",
     "text": [
      "Question: What is the Harappan seal made of?\n",
      "Answer: The Harappan seal is made of a stone called steatite.\n",
      "\n",
      "Q: What types of grains were found at Harappan sites?\n",
      "A: Wheat, barley, lentil, chickpea, sesame, and millets (in Gujarat), as well as rice (though less common).\n",
      "\n",
      "Question: Did the Harappans use stone blades set in wooden handles or did they use metal tools?\n",
      "\n",
      "Answer: The Harappans used both stone blades set in wooden handles and metal tools. Archaeological evidence suggests that they used stone tools, such as saddle querns, for grinding and pounding, while metal tools, such as copper axes and sickles, were used for cutting and harvesting.\n",
      "\n",
      "Q: What is the difference between the Citadel and the Lower Town in Mohenjodaro?\n",
      "A: The Citadel was a smaller, higher section of the city that was walled and contained buildings constructed on mud brick platforms. The Lower Town was a larger, lower section of the city that was also walled and had buildings constructed on platforms, with a carefully planned drainage system and roads laid out in a grid pattern.\n",
      "\n",
      "Q: What was the purpose of the walls that separated the Citadel from the rest of the town in Harappan settlements like Lothal and Dholavira?\n",
      "A: The walls that separated the Citadel from the rest of the town in Harappan settlements like Lothal and Dholavira were likely used to demarcate a special public area from the residential areas, and may have been used for administrative, religious or other public purposes.\n",
      "\n",
      "Q: What were some of the architectural features of Mohenjodaro that indicate planning?\n",
      "A: Some of the architectural features of Mohenjodaro that indicate planning include the well-planned streets, drainage system, and public buildings such as the Great Bath and the warehouse.\n",
      "\n",
      "Q: Were there other structures on the Citadel apart from the warehouse and the Great Bath?\n",
      "A: Yes, there were other structures on the Citadel apart from the warehouse and the Great Bath, including a smaller building with eight bathrooms.\n",
      "\n",
      "Q: What do the variations in burial pits and the presence of ornaments and jewellery in burials suggest?\n",
      "A: The variations in burial pits and the presence of ornaments and jewellery in burials suggest that there may have been social differences amongst the people living in the Harappan civilisation.\n",
      "\n",
      "Q: Did the Harappans believe in burying precious things with the dead?\n",
      "A: No, it appears that the Harappans did not believe in burying precious things with the dead, as most burials contained only a few ornaments and no other valuable items.\n",
      "\n",
      "Q: What were some of the luxury items found in the Harappan civilization?\n",
      "A: The Harappans did not believe in burying precious things with the dead, but some luxury items found in the settlements include copper mirrors, faience pots, and gold jewelry. Faience was a material made of ground sand or silica mixed with color and a gum and then fired, and little pots of faience were considered precious because they were difficult to make. Rare objects made of valuable materials were generally concentrated in large settlements like Mohenjodaro and Harappa and are rarely found in smaller settlements.\n",
      "\n",
      "Q: What are the modes of disposal of the dead prevalent at present?\n",
      "A: The modes of disposal of the dead prevalent at present vary depending on cultural and religious practices, but they often include burial, cremation, or donation to science.\n",
      "\n",
      "Q: To what extent do these represent social differences?\n",
      "A: The choice of disposal method can reflect social differences, such as economic status, religious affiliation, or cultural traditions.\n",
      "\n",
      "Q: What were the techniques for making beads in ancient times?\n",
      "A: Techniques for making beads in ancient times included moulding, drilling, grinding, and polishing. The material used for making beads varied, such as steatite, carnelian, and shell.\n",
      "\n",
      "Q: What were some of the centres of craft production in ancient India?\n",
      "A: Some of the centres of craft production in ancient India were located in cities such as Mohenjodaro, Harappa, Chanhudaro, and Lothal. These centres produced a variety of objects, including beads, pottery, and shell objects.\n",
      "\n",
      "Q: How did archaeologists identify centres of craft production?\n",
      "A: Archaeologists identified centres of craft production by looking for raw materials, tools, unfinished objects, rejects, and waste material at excavation sites. The presence of these items indicates that the location was used for craft production.\n",
      "\n",
      "Q: Should the stone artefacts illustrated in the chapter be considered as utilitarian objects or as luxuries?\n",
      "A: Some of the stone artefacts illustrated in the chapter, such as the beads, can be considered as both utilitarian objects and luxuries. They were likely used for practical purposes, such as decoration or currency, but they also had aesthetic value and may have been considered luxury items.\n",
      "\n",
      "Q: Should the stone artefacts illustrated in the chapter be considered as utilitarian objects or as luxuries?\n",
      "A: The stone artefacts illustrated in the chapter could be considered as both utilitarian objects and luxuries, depending on their purpose and context. For example, copper and bronze vessels (Fig. 1.16) could have been used for both practical and decorative purposes, while terracotta toy models of bullock carts (Fig. 1.15) may have been primarily decorative. The distinction between utilitarian objects and luxuries can sometimes be blurred, and the specific use and value of an artefact may have varied depending on the context in which it was used.\n",
      "\n",
      "Question: What were the possible routes from the Harappan region to Oman, Dilmun, and Mesopotamia?\n",
      "\n",
      "Answer: The possible routes from the Harappan region to Oman, Dilmun, and Mesopotamia were likely by sea, as Mesopotamian texts refer to Meluhha as a land of seafarers and depictions of ships and boats on seals have been found. The route may have followed the coastline of the Arabian Sea and the Persian Gulf, with stops at ports along the way. Additionally, local \"Dilmun\" weights followed the Harappan standard, suggesting a connection between the two regions.\n",
      "\n",
      "Q: What was the purpose of the seals in Harappan society?\n",
      "A: The seals were used for identification and conveyed the identity of the sender, possibly containing the name and title of the owner. They also had a motif that conveyed a meaning to those who could not read, and the script remains undeciphered to date.\n",
      "\n",
      "Q: What was the system of weights used in Harappan society?\n",
      "A: The Harappans used a precise system of weights, made of chert, generally cubical in shape, with no markings. The lower denominations followed a binary system (1, 2, 4, 8, 16, 32, etc. up to 12,800), while the higher denominations followed the decimal system.\n",
      "\n",
      "Q: What are some present-day methods used for long-distance exchange of goods?\n",
      "A: Some present-day methods used for long-distance exchange of goods include electronic payment systems, such as credit cards and online banking, as well as traditional methods like cash and bartering.\n",
      "\n",
      "Q: What are the advantages and problems of these methods?\n",
      "A: The advantages of electronic payment systems include convenience and speed, while traditional methods can be more accessible and reliable in areas with limited technology. However, all methods have their own set of problems, such as security concerns and the potential for fraud or loss.\n",
      "\n",
      "Q: Could everybody in Harappan society have been equal?\n",
      "A: It is unlikely that everybody in Harappan society was equal, as there is evidence of a complex society with a strong unifying element, such as a state, that came to an end. While some archaeologists argue that Harappan society had no rulers and that everybody enjoyed equal status, others suggest that there was a single state or multiple rulers. The standardisation of artefacts, planned settlements, and the establishment of settlements near sources of raw materials suggest a level of organisation and coordination that would be difficult to achieve in a society without a hierarchy.\n",
      "\n",
      "Question: What evidence suggests that the Harappan civilization was destroyed by an invasion or massacre?\n",
      "\n",
      "Answer: The discovery of skeletons of people with ornaments they were wearing when they died, the presence of a destruction level covering the latest period of the city, and the absence of signs of extensive burning or bodies of warriors clad in armor surrounded by weapons of war suggest that the Harappan civilization was destroyed by an invasion or massacre. Additionally, the Rigveda mentions pur, meaning rampart, fort or stronghold, and Indra, the Aryan war-god, is called puramdara, the fort-destroyer, which may imply that the Aryans were responsible for the destruction of the Harappan civilization.\n",
      "\n",
      "Q: What did Cunningham, the first Director-General of the ASI, prefer to use as a guide for archaeological excavations?\n",
      "A: Cunningham preferred to use the written word (texts and inscriptions) as a guide to investigations.\n",
      "\n",
      "Question: What was the significance of the discovery of seals at Harappa and Mohenjodaro?\n",
      "\n",
      "Answer: The discovery of seals at Harappa and Mohenjodaro led to the realization that these sites were part of a single archaeological culture, and marked the discovery of a new civilisation in the Indus valley that was contemporaneous with Mesopotamia. This discovery was significant because it challenged the previously held belief that the Indus valley was not inhabited by a civilisation as advanced as Mesopotamia. Additionally, the discovery of similar seals at excavations at Mesopotamian sites further supported the idea that the Indus valley civilisation was connected to other ancient civilisations.\n",
      "\n",
      "Question: What was the problem with the way archaeologists were excavating the Harappan sites before R.E.M. Wheeler took over as Director-General of the ASI in 1944?\n",
      "\n",
      "Answer: The archaeologists were digging mechanically along uniform horizontal lines, which meant that all the artefacts recovered from the same unit were grouped together, even if they were found at different stratigraphic layers. This resulted in valuable information about the context of these finds being irretrievably lost.\n",
      "\n",
      "Q: What are the themes in Indian history that would have interested Cunningham?\n",
      "A: Cunningham would have been interested in the theme of \"Problems of Piecing Together the Past\" in Indian history, specifically the sub-theme of classifying finds and understanding the function of artefacts. This is evident from the passage where the author discusses the challenges of reconstructing Harappan life through material evidence, such as pottery, tools, ornaments, and household objects, and the importance of classifying artefacts based on material and function.\n",
      "\n",
      "Q: What are the issues that have been of interest since 1947?\n",
      "A: The issues that have been of interest since 1947 in the context of Indian history and archaeology include the recovery and classification of artefacts, the understanding of the function of artefacts, and the development of frames of reference for interpreting indirect evidence. These issues have been important in the study of ancient civilizations like the Harappan civilization, as they help archaeologists piece together the past and reconstruct the lives of people in those societies.\n",
      "\n",
      "Question: How do archaeologists interpret religious practices in ancient societies?\n",
      "\n",
      "Answer: Archaeologists interpret religious practices in ancient societies by examining artifacts, structures, and seals, and comparing them to known religious symbols and traditions. They also rely on indirect evidence, such as depictions in sculpture, and attempt to reconstruct religious beliefs and practices by examining seals and other artifacts. However, these interpretations can be speculative and may not always accurately reflect the beliefs and practices of the ancient society.\n",
      "\n",
      "Question: What are the aspects of Harappan economy that have been reconstructed from archaeological evidence?\n",
      "\n",
      "Answer: The Harappan economy has been reconstructed to have been based on agriculture, with crops such as wheat, barley, and rice being grown. The people of the Indus Valley Civilization also raised livestock such as cattle, sheep, and goats, and used the wool from these animals to make textiles. The civilization also had a strong trading network, with goods such as cotton, spices, and metals being traded with other regions. Additionally, the Harappans had a system of weights and measures, which suggests a high level of economic organization.\n",
      "\n",
      "Q: What were some of the distinctive features of Mohenjodaro?\n",
      "A: Mohenjodaro was a well-planned city with a sophisticated drainage system, a central square, and a granary. It also had a large public bath, which suggests that the people of Mohenjodaro placed great importance on personal hygiene. Additionally, the city was laid out in a grid pattern with straight roads, indicating careful town planning.\n",
      "\n"
     ]
    }
   ],
   "source": [
    "for output in outputs:\n",
    "    print(output)\n",
    "    print('')"
   ]
  },
  {
   "cell_type": "code",
   "execution_count": 14,
   "id": "4e030a7e",
   "metadata": {},
   "outputs": [],
   "source": [
    "from reportlab.lib.pagesizes import letter\n",
    "from reportlab.pdfgen import canvas"
   ]
  },
  {
   "cell_type": "code",
   "execution_count": 13,
   "id": "2644bd8e",
   "metadata": {},
   "outputs": [
    {
     "data": {
      "text/plain": [
       "(612.0, 792.0)"
      ]
     },
     "execution_count": 13,
     "metadata": {},
     "output_type": "execute_result"
    }
   ],
   "source": [
    "letter"
   ]
  },
  {
   "cell_type": "code",
   "execution_count": 15,
   "id": "4e4cad16",
   "metadata": {},
   "outputs": [],
   "source": []
  },
  {
   "cell_type": "code",
   "execution_count": 25,
   "id": "65dac9f1",
   "metadata": {},
   "outputs": [],
   "source": [
    "text = \"\"\"Q: What is the Harappan seal made of? \n",
    "A: The Harappan seal is made of a stone called steatite. \n",
    "\n",
    "Q: What types of grains were found at Harappan sites? \n",
    "A: Wheat, barley, lentil, chickpea, sesame, and millets (in Gujarat) were found at Harappan sites. Rice was found in relatively low quantities. \n",
    "\n",
    "Q: Did the Harappans use stone blades set in wooden handles or metal tools? \n",
    "A: The Harappans used stone blades set in wooden handles, as well as metal tools.\n",
    "\n",
    "Q: What is the evidence used by archaeologists to reconstruct dietary practices?\n",
    "A: Archaeologists use artefacts such as querns, which were used for grinding grains and other foodstuffs, to reconstruct dietary practices.\n",
    "\n",
    "Q: How were the tools used by the Harappans for harvesting?\n",
    "A: The tools used by the Harappans for harvesting included stone and metal blades set in wooden handles, which were used for cutting and gathering crops.\n",
    "\n",
    "Q: What is the significance of the reservoir found at Dholavira?\n",
    "A: The reservoir found at Dholavira is significant because it suggests that the Harappans had a sophisticated system of irrigation, which allowed them to farm in semi-arid regions.\"\"\""
   ]
  },
  {
   "cell_type": "code",
   "execution_count": 27,
   "id": "8cbc6552",
   "metadata": {},
   "outputs": [],
   "source": []
  },
  {
   "cell_type": "code",
   "execution_count": 45,
   "id": "ea3179ca",
   "metadata": {},
   "outputs": [],
   "source": [
    "def convert_resp_text_to_qas(resp_text):\n",
    "    resp_text_lines = resp_text.split('\\n')\n",
    "    question = \"\"\n",
    "    answer = \"\"\n",
    "    q = -1\n",
    "    ans_lst = []\n",
    "    q_lst = []\n",
    "    for line in resp_text_lines:\n",
    "        if line.strip()==\"\":\n",
    "            continue\n",
    "        if line.lower().strip().startswith('q:') or line.lower().strip().startswith('question'):\n",
    "            if answer != \"\":\n",
    "                ans_lst.append(answer.strip())\n",
    "            question = line[2:]\n",
    "            q = 1\n",
    "        elif line.lower().strip().startswith('a:') or line.lower().strip().startswith('answer'):\n",
    "            if question != \"\":\n",
    "                q_lst.append(question.strip())\n",
    "            q = 0\n",
    "            answer = line[2:]\n",
    "        elif q==1:\n",
    "            question += \" \"\n",
    "            question += line\n",
    "        elif q==0:\n",
    "            answer += \" \"\n",
    "            answer += line\n",
    "    return q_lst, ans_lst"
   ]
  },
  {
   "cell_type": "code",
   "execution_count": 47,
   "id": "13305afd",
   "metadata": {},
   "outputs": [],
   "source": [
    "q_lst, ans_lst = convert_resp_text_to_qas(text)"
   ]
  },
  {
   "cell_type": "code",
   "execution_count": 48,
   "id": "de894973",
   "metadata": {},
   "outputs": [],
   "source": [
    "qa_list = [{\"question\": q, \"answer\": a} for q, a in zip(q_lst, ans_lst)]"
   ]
  },
  {
   "cell_type": "code",
   "execution_count": 49,
   "id": "284afa12",
   "metadata": {},
   "outputs": [],
   "source": [
    "c = canvas.Canvas(\"test.pdf\",letter)\n",
    "c.saveState()\n",
    "y = 750\n",
    "c.setFont(\"Helvetica-Bold\",16)\n",
    "c.drawString(60, y, 'Questions')\n",
    "y -= 20\n",
    "c.setFont(\"Helvetica\",12)\n",
    "for i in range(len(qa_list)):\n",
    "    question = qa_list[i]['question']\n",
    "    c.drawString(50, y, f\"{i+1}. \" + question)\n",
    "    y -= 15\n",
    "    if y <= 30:\n",
    "        c.restoreState()\n",
    "        c.saveState()\n",
    "        y = 750\n",
    "\n",
    "c.restoreState()\n",
    "c.saveState()\n",
    "y = 750\n",
    "c.setFont(\"Helvetica-Bold\",16)\n",
    "c.drawString(60, y, 'Answers')\n",
    "y -= 20\n",
    "c.setFont(\"Helvetica\",12)\n",
    "for i in range(len(qa_list)):\n",
    "    answer = qa_list[i]['answer']\n",
    "    c.drawString(50, y, f\"{i+1}. \" + answer)\n",
    "    y -= 15\n",
    "    if y <= 30:\n",
    "        c.restoreState()\n",
    "        c.saveState()\n",
    "        y = 750\n",
    "\n",
    "c.save()\n"
   ]
  },
  {
   "cell_type": "code",
   "execution_count": 50,
   "id": "3b6cfa9a",
   "metadata": {},
   "outputs": [],
   "source": [
    "from reportlab.platypus import SimpleDocTemplate, Paragraph, Spacer\n",
    "from reportlab.lib.styles import getSampleStyleSheet\n",
    "from reportlab.rl_config import defaultPageSize\n",
    "from reportlab.lib.units import inch\n",
    "PAGE_HEIGHT=defaultPageSize[1]; PAGE_WIDTH=defaultPageSize[0]\n",
    "styles = getSampleStyleSheet()\n"
   ]
  },
  {
   "cell_type": "code",
   "execution_count": null,
   "id": "0f698d80",
   "metadata": {},
   "outputs": [],
   "source": [
    "Title = \"Hello world\"\n",
    "pageinfo = \"platypus example\"\n",
    "def myFirstPage(canvas, doc):\n",
    "    canvas.saveState()\n",
    "    canvas.setFont('Times-Bold',16)\n",
    "    canvas.drawCentredString(PAGE_WIDTH/2.0, PAGE_HEIGHT-108, Title)\n",
    "    canvas.setFont('Times-Roman',9)\n",
    "    canvas.drawString(inch, 0.75 * inch, \"First Page / %s\" % pageinfo)\n",
    "    canvas.restoreState()\n",
    "\n",
    "\n"
   ]
  }
 ],
 "metadata": {
  "kernelspec": {
   "display_name": "Python 3 (ipykernel)",
   "language": "python",
   "name": "python3"
  },
  "language_info": {
   "codemirror_mode": {
    "name": "ipython",
    "version": 3
   },
   "file_extension": ".py",
   "mimetype": "text/x-python",
   "name": "python",
   "nbconvert_exporter": "python",
   "pygments_lexer": "ipython3",
   "version": "3.11.9"
  }
 },
 "nbformat": 4,
 "nbformat_minor": 5
}
